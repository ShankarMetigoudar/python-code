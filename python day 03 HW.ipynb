{
 "cells": [
  {
   "cell_type": "code",
   "execution_count": 1,
   "id": "3180f099-afd5-43a7-af35-a2fc9b01c56a",
   "metadata": {},
   "outputs": [
    {
     "name": "stdout",
     "output_type": "stream",
     "text": [
      "1.ADDITION  2.SUBTRACTION 3.MULTIPILICATION 4.DIVISION  5.MODULS 6.POWER  \n"
     ]
    },
    {
     "name": "stdin",
     "output_type": "stream",
     "text": [
      "enter your choice 1\n",
      "enter the value of a 65\n",
      "enter the value of b 5\n"
     ]
    },
    {
     "name": "stdout",
     "output_type": "stream",
     "text": [
      "70\n"
     ]
    }
   ],
   "source": [
    "print(\"1.ADDITION  2.SUBTRACTION 3.MULTIPILICATION 4.DIVISION  5.MODULS 6.POWER  \")\n",
    "ch=int(input(\"enter your choice\"))\n",
    "a=int(input(\"enter the value of a\"))\n",
    "b=int(input(\"enter the value of b\"))\n",
    "match ch:\n",
    " case 1:print(a+b)\n",
    " case 2:print(a-b)\n",
    " case 3:print(a*b)\n",
    " case 4:print(a/b)\n",
    " case 5:print(a%b)\n",
    " case 6:print(a**b)\n",
    " case _:print(\"---invalid---\")"
   ]
  },
  {
   "cell_type": "code",
   "execution_count": 2,
   "id": "179b4851-4bb8-4094-8464-1718aeb4fd2f",
   "metadata": {},
   "outputs": [
    {
     "name": "stdin",
     "output_type": "stream",
     "text": [
      "Enter a character: T\n"
     ]
    },
    {
     "name": "stdout",
     "output_type": "stream",
     "text": [
      "upper case\n"
     ]
    }
   ],
   "source": [
    "a=input(\"Enter a character:\")\n",
    "if a==a.lower():\n",
    "    print(\"Lower case\")\n",
    "elif a==a.upper():\n",
    "    print(\"upper case\")"
   ]
  },
  {
   "cell_type": "code",
   "execution_count": 4,
   "id": "4068451a-b6de-4e6c-99d3-577fc90aaa2c",
   "metadata": {},
   "outputs": [
    {
     "name": "stdin",
     "output_type": "stream",
     "text": [
      "Enter the string madam\n"
     ]
    },
    {
     "name": "stdout",
     "output_type": "stream",
     "text": [
      "the given string is a palindrome\n"
     ]
    }
   ],
   "source": [
    "a=input(\"Enter the string\")\n",
    "s=a[::-1]\n",
    "if a==s:\n",
    "    print(\"the given string is a palindrome\")\n",
    "else:\n",
    "    print(\"the given string is nat a palindrome\")"
   ]
  },
  {
   "cell_type": "code",
   "execution_count": 4,
   "id": "900b02ac-4f0e-4459-b221-d1cf2528e1a2",
   "metadata": {},
   "outputs": [
    {
     "name": "stdin",
     "output_type": "stream",
     "text": [
      " 56\n"
     ]
    },
    {
     "name": "stdout",
     "output_type": "stream",
     "text": [
      "65\n"
     ]
    }
   ],
   "source": [
    "n=int(input())\n",
    "rev=0\n",
    "while n>0:\n",
    "    rem=n%10\n",
    "    rev=rev*10+rem\n",
    "    n=n//10\n",
    "print(rev)"
   ]
  },
  {
   "cell_type": "code",
   "execution_count": 5,
   "id": "1bf00161-dcb6-4090-ab94-cc71c6052811",
   "metadata": {},
   "outputs": [
    {
     "name": "stdin",
     "output_type": "stream",
     "text": [
      " 124\n"
     ]
    },
    {
     "name": "stdout",
     "output_type": "stream",
     "text": [
      "421\n"
     ]
    }
   ],
   "source": [
    "n=int(input())\n",
    "rev=0\n",
    "while n>0:\n",
    "    rem=n%10\n",
    "    rev=rev*10+rem\n",
    "    n=n//10\n",
    "print(rev)"
   ]
  },
  {
   "cell_type": "code",
   "execution_count": 6,
   "id": "ca5d8429-b0ee-4f62-8e6f-b3f943daa65e",
   "metadata": {},
   "outputs": [
    {
     "name": "stdin",
     "output_type": "stream",
     "text": [
      " 6543\n"
     ]
    },
    {
     "name": "stdout",
     "output_type": "stream",
     "text": [
      "is a prime number\n",
      "not prime number\n"
     ]
    }
   ],
   "source": [
    "n=int(input())\n",
    "for i in range(2,n):\n",
    "    if n%i==0:\n",
    "        print(\"not prime number\")\n",
    "        break\n",
    "    else:\n",
    "        print(\"is a prime number\")"
   ]
  },
  {
   "cell_type": "code",
   "execution_count": 7,
   "id": "7747090b-f406-43ae-8311-9c731d2b3473",
   "metadata": {},
   "outputs": [
    {
     "name": "stdin",
     "output_type": "stream",
     "text": [
      " 4\n"
     ]
    },
    {
     "name": "stdout",
     "output_type": "stream",
     "text": [
      "24\n"
     ]
    }
   ],
   "source": [
    "n=int(input())\n",
    "fact=1\n",
    "for i in range(n,0,-1):\n",
    "    fact=fact*i\n",
    "print(fact)"
   ]
  },
  {
   "cell_type": "code",
   "execution_count": 11,
   "id": "7e9fc05a-7e1a-4d70-8d43-a48403856270",
   "metadata": {},
   "outputs": [
    {
     "name": "stdin",
     "output_type": "stream",
     "text": [
      "Enter the number of students:  4\n",
      "Enter student name:  shankar\n",
      "Enter student grade:  89\n",
      "Enter student name:  vasanth\n",
      "Enter student grade:  90\n",
      "Enter student name:  amith\n",
      "Enter student grade:  987\n",
      "Enter student name:  naveen\n",
      "Enter student grade:  98\n"
     ]
    },
    {
     "name": "stdout",
     "output_type": "stream",
     "text": [
      "Average grade: 316.0\n"
     ]
    }
   ],
   "source": [
    "\n",
    "grades_dict = {}\n",
    "\n",
    "num_students = int(input(\"Enter the number of students: \"))\n",
    "\n",
    "for _ in range(num_students):\n",
    "    name = input(\"Enter student name: \")\n",
    "    grade = float(input(\"Enter student grade: \"))\n",
    "    grades_dict[name] = grade\n",
    "\n",
    "total_grade = 0\n",
    "count = 0\n",
    "for grade in grades_dict.values():\n",
    "    total_grade += grade\n",
    "    count += 1\n",
    "\n",
    "if count > 0:\n",
    "    average_grade = total_grade / count\n",
    "    print(\"Average grade:\", average_grade)\n",
    "else:\n",
    "    print(\"Dictionary is empty!\")\n"
   ]
  },
  {
   "cell_type": "code",
   "execution_count": 19,
   "id": "3abb948c-7f79-4c9b-846c-00b24a93456f",
   "metadata": {},
   "outputs": [
    {
     "name": "stdin",
     "output_type": "stream",
     "text": [
      "Enter the limit 4\n",
      " 5\n",
      " 31\n",
      " 564\n",
      " 5\n"
     ]
    },
    {
     "name": "stdout",
     "output_type": "stream",
     "text": [
      "[5, 31, 564, 5]\n",
      "SUM =  605\n"
     ]
    }
   ],
   "source": [
    "#Write a Python program to find the sum of all elements in a list and handle the case where the list contains non-numeric values.\n",
    "n=int(input(\"Enter the limit : \"))\n",
    "try:\n",
    "    A=[]\n",
    "    for i in range(0,n):\n",
    "        b=int(input())\n",
    "        A.append(b)\n",
    "    print(A)\n",
    "except NonNumeric:\n",
    "    print(\"The List has a Non Numeric Value\")\n",
    "sum=0\n",
    "for i in range(0,n):\n",
    "    sum=sum+A[i]\n",
    "print(\"SUM = \",sum)"
   ]
  },
  {
   "cell_type": "code",
   "execution_count": null,
   "id": "376b224f-df83-4ac8-9738-25f789e3e2cf",
   "metadata": {},
   "outputs": [],
   "source": []
  }
 ],
 "metadata": {
  "kernelspec": {
   "display_name": "Python 3 (ipykernel)",
   "language": "python",
   "name": "python3"
  },
  "language_info": {
   "codemirror_mode": {
    "name": "ipython",
    "version": 3
   },
   "file_extension": ".py",
   "mimetype": "text/x-python",
   "name": "python",
   "nbconvert_exporter": "python",
   "pygments_lexer": "ipython3",
   "version": "3.12.3"
  }
 },
 "nbformat": 4,
 "nbformat_minor": 5
}
