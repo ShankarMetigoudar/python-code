{
 "cells": [
  {
   "cell_type": "code",
   "execution_count": 4,
   "id": "2747a08b-cb59-450e-832b-945f99968091",
   "metadata": {},
   "outputs": [
    {
     "name": "stdin",
     "output_type": "stream",
     "text": [
      "Enter the Size of the List:  4\n"
     ]
    },
    {
     "name": "stdout",
     "output_type": "stream",
     "text": [
      "Enter the elements of the list: \n"
     ]
    },
    {
     "name": "stdin",
     "output_type": "stream",
     "text": [
      " 5\n",
      " 6\n",
      " 7\n",
      " 8\n"
     ]
    },
    {
     "name": "stdout",
     "output_type": "stream",
     "text": [
      "[5, 6, 7, 8]\n",
      "the Sum of all the even numbers in the list :  14\n"
     ]
    }
   ],
   "source": [
    "#Find the sum of all even numbers in a list.\n",
    "a=[]\n",
    "n=int(input(\"Enter the Size of the List: \"))\n",
    "print(\"Enter the elements of the list: \")\n",
    "for i in range(0,n):\n",
    "    b=int(input())\n",
    "    a.append(b)\n",
    "    \n",
    "print(a)\n",
    "sum=0\n",
    "for i in range(0,n):\n",
    "    if((a[i]%2)==0):\n",
    "        sum+=a[i]\n",
    "\n",
    "print(\"the Sum of all the even numbers in the list :\",end=\"  \")\n",
    "print(sum)"
   ]
  },
  {
   "cell_type": "code",
   "execution_count": 5,
   "id": "1b864d96-6f3a-4d26-841d-e1f9f51ccfc7",
   "metadata": {},
   "outputs": [
    {
     "name": "stdin",
     "output_type": "stream",
     "text": [
      "Enter the Temperature in Celsius:  897\n"
     ]
    },
    {
     "name": "stdout",
     "output_type": "stream",
     "text": [
      "The Given Temperature in Fahrenhiet is: 1646.6000000000001\n"
     ]
    }
   ],
   "source": [
    "#program to Convert Temperature from Celsius to Fahrenhiet\n",
    "Cel=int(input(\"Enter the Temperature in Celsius: \"))\n",
    "fah=(Cel*1.8)+32\n",
    "print(\"The Given Temperature in Fahrenhiet is:\",fah)"
   ]
  },
  {
   "cell_type": "code",
   "execution_count": 10,
   "id": "17cdd057-bf08-4670-bbeb-ef795dd504f9",
   "metadata": {},
   "outputs": [
    {
     "name": "stdin",
     "output_type": "stream",
     "text": [
      "Enter the size:  4\n"
     ]
    },
    {
     "name": "stdout",
     "output_type": "stream",
     "text": [
      "Enter the elements: \n"
     ]
    },
    {
     "name": "stdin",
     "output_type": "stream",
     "text": [
      " 3\n",
      " 4\n",
      " 6\n",
      " 7\n"
     ]
    },
    {
     "name": "stdout",
     "output_type": "stream",
     "text": [
      "The Second Largest: 6\n"
     ]
    }
   ],
   "source": [
    "#program to find Second largest Number\n",
    "a=[]\n",
    "n=int(input(\"Enter the size: \"))\n",
    "print(\"Enter the elements: \")\n",
    "for i in range(0,n):\n",
    "    b=int(input())\n",
    "    a.append(b)\n",
    "\n",
    "a.sort()\n",
    "print(\"The Second Largest:\",end=\" \")\n",
    "print(a[-2])"
   ]
  },
  {
   "cell_type": "code",
   "execution_count": 11,
   "id": "6c92182f-1ff6-49b5-8849-4551e81f2d06",
   "metadata": {},
   "outputs": [
    {
     "name": "stdin",
     "output_type": "stream",
     "text": [
      " 6\n",
      " 5\n",
      " 4\n",
      " 3\n",
      " 2\n",
      " 4\n",
      " 5\n",
      " 5\n",
      " 6\n",
      " 6\n",
      " 5\n",
      " 4\n",
      " 4\n",
      " 5\n",
      " \n",
      " 66\n",
      " 6\n",
      " 5\n",
      " 5\n",
      " 4\n"
     ]
    },
    {
     "name": "stdout",
     "output_type": "stream",
     "text": [
      "{'6': 4, '5': 7, '4': 5, '3': 1, '2': 1, '': 1, '66': 1}\n"
     ]
    }
   ],
   "source": [
    "#program for Counting occurences of each element in the list\n",
    "a=[]\n",
    "for i in range(0,20):\n",
    "    b=input()\n",
    "    a.append(b)\n",
    "    \n",
    "c={}\n",
    "for i in a:\n",
    "    if i not in c:\n",
    "        c[i]=a.count(i)\n",
    "print(c)"
   ]
  },
  {
   "cell_type": "code",
   "execution_count": null,
   "id": "35d6f5be-2515-4ff9-a13b-cf78263fe3f4",
   "metadata": {},
   "outputs": [],
   "source": []
  },
  {
   "cell_type": "code",
   "execution_count": 1,
   "id": "a1793100-2fee-4a0e-ac82-2d769bae1390",
   "metadata": {},
   "outputs": [
    {
     "name": "stdin",
     "output_type": "stream",
     "text": [
      "enter your word:  shankar\n"
     ]
    },
    {
     "name": "stdout",
     "output_type": "stream",
     "text": [
      "2\n"
     ]
    }
   ],
   "source": [
    "#Count the number of vowels in a string\n",
    "n=input(\"enter your word: \")\n",
    "count=0\n",
    "for i in n:\n",
    "    if i=='a' or i=='e' or i=='i' or i=='o' or i=='u':\n",
    "        count+=1\n",
    "\n",
    "print(count)"
   ]
  },
  {
   "cell_type": "code",
   "execution_count": 3,
   "id": "e8d7e1c5-088d-45a5-8051-ca46625605c8",
   "metadata": {},
   "outputs": [
    {
     "name": "stdin",
     "output_type": "stream",
     "text": [
      "Enter your word abcdefghijklmnopqrstuvwxyz\n"
     ]
    },
    {
     "name": "stdout",
     "output_type": "stream",
     "text": [
      "zyxwvutsrqponmlkjihgfedcba\n"
     ]
    }
   ],
   "source": [
    "#program to Reverse the words in a given sentence.\n",
    "f=input(\"Enter your word\")\n",
    "a=f[::-1]\n",
    "print(a)"
   ]
  },
  {
   "cell_type": "code",
   "execution_count": null,
   "id": "b2920a1a-e349-4e94-8165-234444259a68",
   "metadata": {},
   "outputs": [],
   "source": []
  }
 ],
 "metadata": {
  "kernelspec": {
   "display_name": "Python 3 (ipykernel)",
   "language": "python",
   "name": "python3"
  },
  "language_info": {
   "codemirror_mode": {
    "name": "ipython",
    "version": 3
   },
   "file_extension": ".py",
   "mimetype": "text/x-python",
   "name": "python",
   "nbconvert_exporter": "python",
   "pygments_lexer": "ipython3",
   "version": "3.12.3"
  }
 },
 "nbformat": 4,
 "nbformat_minor": 5
}
