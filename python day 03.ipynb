{
 "cells": [
  {
   "cell_type": "code",
   "execution_count": 5,
   "id": "a2213b86-56a4-4874-abc7-27e7ba0f0315",
   "metadata": {},
   "outputs": [
    {
     "name": "stdout",
     "output_type": "stream",
     "text": [
      "[1, 2, 3, 4, 5, 6, 7, 8, 9, 9.9]\n",
      "3\n",
      "<class 'int'>\n",
      "9.9\n",
      "<class 'float'>\n"
     ]
    }
   ],
   "source": [
    "a=[1,2,3,4,5,6,7,8,9,9.9]\n",
    "print(a)\n",
    "print(a[2])\n",
    "print(type(a[2]))\n",
    "print(a[9])\n",
    "print(type(a[9]))"
   ]
  },
  {
   "cell_type": "code",
   "execution_count": 11,
   "id": "d3933e8d-a98c-447a-95bd-22bdbb6f551b",
   "metadata": {},
   "outputs": [
    {
     "name": "stdout",
     "output_type": "stream",
     "text": [
      "2 4 6 8 10 20 30 "
     ]
    }
   ],
   "source": [
    "a=[2,4,6,8,10,20,30]\n",
    "for x in range(7):\n",
    "    print(a[x],end=\" \")"
   ]
  },
  {
   "cell_type": "code",
   "execution_count": 24,
   "id": "a67cee36-9a14-4b56-ae79-1a32cbd1c6a9",
   "metadata": {},
   "outputs": [
    {
     "name": "stdout",
     "output_type": "stream",
     "text": [
      "[1, 2, 3, 4, 5]\n"
     ]
    }
   ],
   "source": [
    "a=[1,2,3,4,5]\n",
    "b=a.copy()\n",
    "print(b)"
   ]
  },
  {
   "cell_type": "code",
   "execution_count": 16,
   "id": "235b28b2-d6a1-4262-bdaf-06deb1201ded",
   "metadata": {},
   "outputs": [
    {
     "name": "stdout",
     "output_type": "stream",
     "text": [
      "3\n"
     ]
    }
   ],
   "source": [
    "a=[1,2,3,4,5]\n",
    "c=b.pop(3)\n",
    "print(c)"
   ]
  },
  {
   "cell_type": "code",
   "execution_count": 17,
   "id": "4671de5d-3c78-4674-92c1-32f0cdfaa7e5",
   "metadata": {},
   "outputs": [
    {
     "name": "stdout",
     "output_type": "stream",
     "text": [
      "[900, 12, 5, 2, 1]\n",
      "[900, 12, 5, 2, 1, 12]\n"
     ]
    }
   ],
   "source": [
    "a=[1,2,3,4,5]\n",
    "print(b)\n",
    "b.append(12)\n",
    "print(b)"
   ]
  },
  {
   "cell_type": "code",
   "execution_count": 18,
   "id": "b79c495e-c60c-4638-97f9-1e1920a7e5d1",
   "metadata": {},
   "outputs": [
    {
     "name": "stdout",
     "output_type": "stream",
     "text": [
      "3\n"
     ]
    }
   ],
   "source": [
    "a=[1,2,3,4,5]\n",
    "print(b.index(2))"
   ]
  },
  {
   "cell_type": "code",
   "execution_count": 19,
   "id": "ed16bc55-8818-41a8-9b6d-652e83d5c2b9",
   "metadata": {},
   "outputs": [
    {
     "name": "stdout",
     "output_type": "stream",
     "text": [
      "0\n"
     ]
    }
   ],
   "source": [
    "a=[1,2,3,4,5]\n",
    "print(b.count(4))"
   ]
  },
  {
   "cell_type": "code",
   "execution_count": 20,
   "id": "61235ef5-b7a3-48aa-bfdf-aaec596110f7",
   "metadata": {},
   "outputs": [
    {
     "name": "stdout",
     "output_type": "stream",
     "text": [
      "[900, 12, 5, 2, 900, 1, 12]\n"
     ]
    }
   ],
   "source": [
    "a=[1,2,3,4,5]\n",
    "b.insert(4,900)\n",
    "print(b)"
   ]
  },
  {
   "cell_type": "code",
   "execution_count": 21,
   "id": "acfc7bb7-21d2-4eef-82fb-f2f3bd012121",
   "metadata": {},
   "outputs": [
    {
     "name": "stdout",
     "output_type": "stream",
     "text": [
      "[1, 2, 5, 12, 12, 900, 900]\n"
     ]
    }
   ],
   "source": [
    "a=[1,2,3,4,5]\n",
    "b.sort()\n",
    "print(b)\n"
   ]
  },
  {
   "cell_type": "code",
   "execution_count": 22,
   "id": "0b37918d-d097-4836-97d4-5b1e840b4853",
   "metadata": {},
   "outputs": [
    {
     "name": "stdout",
     "output_type": "stream",
     "text": [
      "[900, 900, 12, 12, 5, 2, 1]\n"
     ]
    }
   ],
   "source": [
    "a=[1,2,3,4,5]\n",
    "b.sort(reverse=True)\n",
    "print(b)"
   ]
  },
  {
   "cell_type": "code",
   "execution_count": 23,
   "id": "9a0444e6-500e-4a53-8af5-220285d2d5ea",
   "metadata": {},
   "outputs": [
    {
     "name": "stdout",
     "output_type": "stream",
     "text": [
      "900\n",
      "900\n",
      "12\n",
      "12\n",
      "5\n",
      "2\n",
      "1\n"
     ]
    }
   ],
   "source": [
    "a=[1,2,3,4,5]\n",
    "for x in b:\n",
    "    print(x)\n"
   ]
  },
  {
   "cell_type": "code",
   "execution_count": 31,
   "id": "903e762b-4e01-44d6-8e99-2833f50d154a",
   "metadata": {},
   "outputs": [
    {
     "name": "stdin",
     "output_type": "stream",
     "text": [
      "enter the size of list: 4\n",
      " 7\n",
      " 99\n",
      " 80\n",
      " 8\n"
     ]
    },
    {
     "name": "stdout",
     "output_type": "stream",
     "text": [
      "[7, 99, 80, 8]\n"
     ]
    }
   ],
   "source": [
    "x=[]\n",
    "n=int(input(\"enter the size of list:\"))\n",
    "for i in range(0,n):\n",
    "    a=int(input())\n",
    "    x.append(a)\n",
    "print(x)"
   ]
  },
  {
   "cell_type": "code",
   "execution_count": 35,
   "id": "627274cb-4a55-42e2-b7df-6b97a903836c",
   "metadata": {},
   "outputs": [
    {
     "name": "stdout",
     "output_type": "stream",
     "text": [
      "(1, 2, 3, 4, 5, 6, 7, 8, 9, 'python')\n",
      "[1, 2, 3, 4, 5, 6, 7, 8, 9, 'python']\n",
      "(1, 2, 3, 4, 5, 6, 7, 8, 9, 'java')\n"
     ]
    },
    {
     "ename": "TypeError",
     "evalue": "'tuple' object does not support item assignment",
     "output_type": "error",
     "traceback": [
      "\u001b[1;31m---------------------------------------------------------------------------\u001b[0m",
      "\u001b[1;31mTypeError\u001b[0m                                 Traceback (most recent call last)",
      "Cell \u001b[1;32mIn[35], line 11\u001b[0m\n\u001b[0;32m      8\u001b[0m a\u001b[38;5;241m=\u001b[39m\u001b[38;5;28mtuple\u001b[39m(b)\n\u001b[0;32m      9\u001b[0m \u001b[38;5;28mprint\u001b[39m(a)\n\u001b[1;32m---> 11\u001b[0m \u001b[43ma\u001b[49m\u001b[43m[\u001b[49m\u001b[38;5;241;43m8\u001b[39;49m\u001b[43m]\u001b[49m\u001b[38;5;241m=\u001b[39m\u001b[38;5;124m\"\u001b[39m\u001b[38;5;124mc++\u001b[39m\u001b[38;5;124m\"\u001b[39m\n\u001b[0;32m     12\u001b[0m \u001b[38;5;28mprint\u001b[39m(a)\n",
      "\u001b[1;31mTypeError\u001b[0m: 'tuple' object does not support item assignment"
     ]
    }
   ],
   "source": [
    "a=(1,2,3,4,5,6,7,8,9,\"python\")\n",
    "print(a)\n",
    "\n",
    "b=list(a)\n",
    "print(b)\n",
    "b[9]=\"java\"\n",
    "\n",
    "a=tuple(b)\n",
    "print(a)\n"
   ]
  },
  {
   "cell_type": "code",
   "execution_count": 42,
   "id": "232f5f55-a14e-4f8d-9452-ba88ee4ae191",
   "metadata": {},
   "outputs": [
    {
     "name": "stdout",
     "output_type": "stream",
     "text": [
      "7 6 5 4 3 2 1 "
     ]
    }
   ],
   "source": [
    "a=[1,2,3,4,5,6,7]\n",
    "for x in range(-1,-1*(len(a)+1),-1):\n",
    "    print(a[x],end=\" \")\n"
   ]
  },
  {
   "cell_type": "code",
   "execution_count": 3,
   "id": "989d14d3-c7bf-4e3c-a092-38fa08b73bed",
   "metadata": {},
   "outputs": [
    {
     "name": "stdin",
     "output_type": "stream",
     "text": [
      "enter the keys: yg\n"
     ]
    },
    {
     "ename": "TypeError",
     "evalue": "int() argument must be a string, a bytes-like object or a real number, not 'list'",
     "output_type": "error",
     "traceback": [
      "\u001b[1;31m---------------------------------------------------------------------------\u001b[0m",
      "\u001b[1;31mTypeError\u001b[0m                                 Traceback (most recent call last)",
      "Cell \u001b[1;32mIn[3], line 1\u001b[0m\n\u001b[1;32m----> 1\u001b[0m key\u001b[38;5;241m=\u001b[39m\u001b[38;5;28;43mint\u001b[39;49m\u001b[43m(\u001b[49m\u001b[38;5;28;43minput\u001b[39;49m\u001b[43m(\u001b[49m\u001b[38;5;124;43m\"\u001b[39;49m\u001b[38;5;124;43menter the keys:\u001b[39;49m\u001b[38;5;124;43m\"\u001b[39;49m\u001b[43m)\u001b[49m\u001b[38;5;241;43m.\u001b[39;49m\u001b[43msplit\u001b[49m\u001b[43m(\u001b[49m\u001b[43m)\u001b[49m\u001b[43m)\u001b[49m\n\u001b[0;32m      2\u001b[0m val\u001b[38;5;241m=\u001b[39m\u001b[38;5;28minput\u001b[39m(\u001b[38;5;124m\"\u001b[39m\u001b[38;5;124menter the values:\u001b[39m\u001b[38;5;124m\"\u001b[39m)\u001b[38;5;241m.\u001b[39msplit()\n\u001b[0;32m      3\u001b[0m d\u001b[38;5;241m=\u001b[39m{}\n",
      "\u001b[1;31mTypeError\u001b[0m: int() argument must be a string, a bytes-like object or a real number, not 'list'"
     ]
    }
   ],
   "source": [
    "key=int(input(\"enter the keys:\").split())\n",
    "val=input(\"enter the values:\").split()\n",
    "d={}\n",
    "for i in range(0,len(a)):\n",
    "    d.append(key)\n",
    "    d.append(val)\n",
    "print(d)"
   ]
  },
  {
   "cell_type": "code",
   "execution_count": 7,
   "id": "e72d4f74-3631-4267-8a6a-d0852d8fdfda",
   "metadata": {},
   "outputs": [
    {
     "name": "stdin",
     "output_type": "stream",
     "text": [
      "enter the key 3\n"
     ]
    },
    {
     "name": "stdout",
     "output_type": "stream",
     "text": [
      "AS\n",
      "error eedhe nod lee\n"
     ]
    }
   ],
   "source": [
    "a={1:'shankar',2:'RS',3:'AS',4:'SS'}\n",
    "i=int(input(\"enter the key\"))\n",
    "try:\n",
    "    print(a[i])\n",
    "except:\n",
    "    print(\"no error\")\n",
    "finally:\n",
    "    print(\"error eedhe nod lee\")"
   ]
  },
  {
   "cell_type": "code",
   "execution_count": null,
   "id": "68cfa0b6-739d-4afb-9252-29dcbd9cb02a",
   "metadata": {},
   "outputs": [],
   "source": []
  }
 ],
 "metadata": {
  "kernelspec": {
   "display_name": "Python 3 (ipykernel)",
   "language": "python",
   "name": "python3"
  },
  "language_info": {
   "codemirror_mode": {
    "name": "ipython",
    "version": 3
   },
   "file_extension": ".py",
   "mimetype": "text/x-python",
   "name": "python",
   "nbconvert_exporter": "python",
   "pygments_lexer": "ipython3",
   "version": "3.12.3"
  }
 },
 "nbformat": 4,
 "nbformat_minor": 5
}
